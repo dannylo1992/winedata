{
 "cells": [
  {
   "cell_type": "markdown",
   "metadata": {},
   "source": [
    "# wine price\n",
    "## Data describes the relations between price and country"
   ]
  },
  {
   "cell_type": "code",
   "execution_count": 14,
   "metadata": {},
   "outputs": [],
   "source": [
    "import pandas as pd\n",
    "import matplotlib.pyplot as plt\n",
    "import numpy as np\n",
    "%matplotlib inline"
   ]
  },
  {
   "cell_type": "markdown",
   "metadata": {},
   "source": [
    "# Reading in data and organizing\n",
    "Removed description because it is not related to the data set."
   ]
  },
  {
   "cell_type": "code",
   "execution_count": 15,
   "metadata": {},
   "outputs": [],
   "source": [
    "df = pd.read_csv('/Users/dannylo1314/Documents/Thinkful/Working_with_files/wine-reviews/winemag-data_first150k.csv')\n",
    "#print(df.head()) #gives the first x rows of data\n",
    "#print(df.describe()) #giving stats on the column(numerical) in order to kill the cells with no value. First look of the data"
   ]
  },
  {
   "cell_type": "code",
   "execution_count": 16,
   "metadata": {},
   "outputs": [
    {
     "name": "stdout",
     "output_type": "stream",
     "text": [
      "            Unnamed: 0    points     price\n",
      "Unnamed: 0    1.000000 -0.094197 -0.036687\n",
      "points       -0.094197  1.000000  0.459863\n",
      "price        -0.036687  0.459863  1.000000\n"
     ]
    },
    {
     "data": {
      "text/html": [
       "<div>\n",
       "<style scoped>\n",
       "    .dataframe tbody tr th:only-of-type {\n",
       "        vertical-align: middle;\n",
       "    }\n",
       "\n",
       "    .dataframe tbody tr th {\n",
       "        vertical-align: top;\n",
       "    }\n",
       "\n",
       "    .dataframe thead th {\n",
       "        text-align: right;\n",
       "    }\n",
       "</style>\n",
       "<table border=\"1\" class=\"dataframe\">\n",
       "  <thead>\n",
       "    <tr style=\"text-align: right;\">\n",
       "      <th></th>\n",
       "      <th>Unnamed: 0</th>\n",
       "      <th>points</th>\n",
       "      <th>price</th>\n",
       "    </tr>\n",
       "  </thead>\n",
       "  <tbody>\n",
       "    <tr>\n",
       "      <th>count</th>\n",
       "      <td>150930.000000</td>\n",
       "      <td>150930.000000</td>\n",
       "      <td>137235.000000</td>\n",
       "    </tr>\n",
       "    <tr>\n",
       "      <th>mean</th>\n",
       "      <td>75464.500000</td>\n",
       "      <td>87.888418</td>\n",
       "      <td>33.131482</td>\n",
       "    </tr>\n",
       "    <tr>\n",
       "      <th>std</th>\n",
       "      <td>43569.882402</td>\n",
       "      <td>3.222392</td>\n",
       "      <td>36.322536</td>\n",
       "    </tr>\n",
       "    <tr>\n",
       "      <th>min</th>\n",
       "      <td>0.000000</td>\n",
       "      <td>80.000000</td>\n",
       "      <td>4.000000</td>\n",
       "    </tr>\n",
       "    <tr>\n",
       "      <th>25%</th>\n",
       "      <td>37732.250000</td>\n",
       "      <td>86.000000</td>\n",
       "      <td>16.000000</td>\n",
       "    </tr>\n",
       "    <tr>\n",
       "      <th>50%</th>\n",
       "      <td>75464.500000</td>\n",
       "      <td>88.000000</td>\n",
       "      <td>24.000000</td>\n",
       "    </tr>\n",
       "    <tr>\n",
       "      <th>75%</th>\n",
       "      <td>113196.750000</td>\n",
       "      <td>90.000000</td>\n",
       "      <td>40.000000</td>\n",
       "    </tr>\n",
       "    <tr>\n",
       "      <th>max</th>\n",
       "      <td>150929.000000</td>\n",
       "      <td>100.000000</td>\n",
       "      <td>2300.000000</td>\n",
       "    </tr>\n",
       "  </tbody>\n",
       "</table>\n",
       "</div>"
      ],
      "text/plain": [
       "          Unnamed: 0         points          price\n",
       "count  150930.000000  150930.000000  137235.000000\n",
       "mean    75464.500000      87.888418      33.131482\n",
       "std     43569.882402       3.222392      36.322536\n",
       "min         0.000000      80.000000       4.000000\n",
       "25%     37732.250000      86.000000      16.000000\n",
       "50%     75464.500000      88.000000      24.000000\n",
       "75%    113196.750000      90.000000      40.000000\n",
       "max    150929.000000     100.000000    2300.000000"
      ]
     },
     "execution_count": 16,
     "metadata": {},
     "output_type": "execute_result"
    }
   ],
   "source": [
    "print(df.corr())\n",
    "df.describe()"
   ]
  },
  {
   "cell_type": "code",
   "execution_count": 17,
   "metadata": {
    "scrolled": true
   },
   "outputs": [],
   "source": [
    "#filtering data\n",
    "del df['description']\n",
    "del df['Unnamed: 0']\n",
    "del df['designation']\n",
    "#del df['points']\n",
    "#print(df.isnull().sum()) #show the number of Null in each column\n",
    "#df.iloc[1:10, 0:2]\n",
    "#df.fillna(0)"
   ]
  },
  {
   "cell_type": "code",
   "execution_count": 18,
   "metadata": {},
   "outputs": [],
   "source": [
    "#This graph shows the mean value of wine from each country. \n",
    "#As shown from the graph, most wine are in the $10-$20 range. \n",
    "#Pricing strategy for most variety is in the $10-$20 range\n"
   ]
  },
  {
   "cell_type": "code",
   "execution_count": 19,
   "metadata": {
    "scrolled": true
   },
   "outputs": [
    {
     "data": {
      "image/png": "[encoded data removed]",
      "text/plain": [
       "<matplotlib.figure.Figure at 0x110402940>"
      ]
     },
     "metadata": {},
     "output_type": "display_data"
    }
   ],
   "source": [
    "#printing\n",
    "plt.figure(figsize=(10, 5))\n",
    "\n",
    "plt.subplot(1,3,1)\n",
    "x = df.groupby('country').mean().reset_index().fillna(0)\n",
    "plt.hist(x['price'],bins = 40, color='green')\n",
    "plt.xlabel('Price')\n",
    "plt.title('Price of wine per Country')\n",
    "\n",
    "plt.subplot(1,3,2)\n",
    "x1 = df.groupby('variety').mean().reset_index().fillna(0)\n",
    "plt.hist(x1['price'],bins = 40)\n",
    "plt.xlabel('Price')\n",
    "plt.title('Price of wine Per Variety')\n",
    "\n",
    "plt.subplot(1,3,3)\n",
    "x2 = df.groupby('region_1').mean().reset_index().fillna(0)\n",
    "plt.hist(x2['price'],bins = 40)\n",
    "plt.xlabel('Price')\n",
    "plt.title('Price of wine Per Region')\n",
    "\n",
    "\n",
    "plt.show()"
   ]
  },
  {
   "cell_type": "code",
   "execution_count": 20,
   "metadata": {},
   "outputs": [
    {
     "data": {
      "text/plain": [
       "'When compared to the the price of wine per variety. \\nOne can conclude that most wine are that fall in the 85-90 range are with in the $10-$30 range'"
      ]
     },
     "execution_count": 20,
     "metadata": {},
     "output_type": "execute_result"
    }
   ],
   "source": [
    "#Points of wine is a normal bell curve when categorized by Variety and Region.\n",
    "#Most fall in the 85-90 points range\n",
    "\"\"\"When compared to the the price of wine per variety. \n",
    "One can conclude that most wine are that fall in the 85-90 range are with in the $10-$30 range\"\"\"\n",
    "\n"
   ]
  },
  {
   "cell_type": "code",
   "execution_count": 21,
   "metadata": {},
   "outputs": [
    {
     "data": {
      "text/plain": [
       "Text(0.5,1,'Points of wine Per Region')"
      ]
     },
     "execution_count": 21,
     "metadata": {},
     "output_type": "execute_result"
    },
    {
     "data": {
      "image/png": "[encoded data removed]",
      "text/plain": [
       "<matplotlib.figure.Figure at 0x10f874780>"
      ]
     },
     "metadata": {},
     "output_type": "display_data"
    }
   ],
   "source": [
    "#printing\n",
    "\n",
    "plt.figure(figsize=(10, 5))\n",
    "\n",
    "plt.subplot(1,3,1)\n",
    "x = df.groupby('country').mean().reset_index().fillna(0)\n",
    "plt.hist(x['points'],bins = 40, color='green')\n",
    "plt.xlabel('points')\n",
    "plt.title('Points of wine per Country')\n",
    "\n",
    "plt.subplot(1,3,2)\n",
    "x1 = df.groupby('variety').mean().reset_index().fillna(0)\n",
    "plt.hist(x1['points'],bins = 40)\n",
    "plt.xlabel('points')\n",
    "plt.title('Points of wine Per Variety',color='red')\n",
    "\n",
    "plt.subplot(1,3,3)\n",
    "x2 = df.groupby('region_1').mean().reset_index().fillna(0)\n",
    "plt.hist(x2['points'],bins = 40,color='purple')\n",
    "plt.xlabel('points')\n",
    "plt.title('Points of wine Per Region')"
   ]
  },
  {
   "cell_type": "code",
   "execution_count": 22,
   "metadata": {},
   "outputs": [
    {
     "data": {
      "text/plain": [
       "\"Points and Price relations. \\nExponential increase of points and price relations. Figure 2 shows the mean price per point and the price level\\nremains relatively flat from 80-90 points and the price increases exponentially after 90. Meaning that \\nif I'm not a expert wine connoisseur, I'd stay in the 80-90 points range to get the best price to points ratio\\n\\n\""
      ]
     },
     "execution_count": 22,
     "metadata": {},
     "output_type": "execute_result"
    }
   ],
   "source": [
    "\"\"\"Points and Price relations. \n",
    "Exponential increase of points and price relations. Figure 2 shows the mean price per point and the price level\n",
    "remains relatively flat from 80-90 points and the price increases exponentially after 90. Meaning that \n",
    "if I'm not a expert wine connoisseur, I'd stay in the 80-90 points range to get the best price to points ratio\n",
    "\n",
    "\"\"\""
   ]
  },
  {
   "cell_type": "code",
   "execution_count": 23,
   "metadata": {},
   "outputs": [
    {
     "data": {
      "image/png": "[encoded data removed]",
      "text/plain": [
       "<matplotlib.figure.Figure at 0x10e0410b8>"
      ]
     },
     "metadata": {},
     "output_type": "display_data"
    }
   ],
   "source": [
    "plt.figure(figsize=(10, 5))\n",
    "\n",
    "plt.subplot(1,3,1)\n",
    "plt.scatter(x=df['points'],y=df['price'],color='red')\n",
    "plt.title('Points VS Price')\n",
    "plt.ylabel('Price')\n",
    "plt.xlabel('Points')\n",
    "\n",
    "plt.subplot(1,3,2)\n",
    "x_scatter = df.groupby('points').mean().reset_index().fillna(0)\n",
    "plt.scatter(x=x_scatter['points'],y=x_scatter['price'],color='blue')\n",
    "plt.title('Points VS Price')\n",
    "plt.ylabel('Price')\n",
    "plt.xlabel('Points')\n",
    "\n",
    "plt.subplot(1,3,3)\n",
    "x_scatter = df.groupby('points').mean().reset_index().fillna(0)\n",
    "plt.scatter(x=df['points'],y=df['price'],color='red')\n",
    "plt.scatter(x=x_scatter['points'],y=x_scatter['price'],color='blue')\n",
    "plt.title('Points VS Price')\n",
    "plt.ylabel('Price')\n",
    "plt.xlabel('Points')\n",
    "\n",
    "\n",
    "plt.show()"
   ]
  },
  {
   "cell_type": "code",
   "execution_count": 24,
   "metadata": {},
   "outputs": [],
   "source": [
    "#prediction / ML \n",
    "#tuning parameter"
   ]
  },
  {
   "cell_type": "code",
   "execution_count": 25,
   "metadata": {},
   "outputs": [],
   "source": [
    "#Conclusion/future scope"
   ]
  }
 ],
 "metadata": {
  "kernelspec": {
   "display_name": "Python 3",
   "language": "python",
   "name": "python3"
  },
  "language_info": {
   "codemirror_mode": {
    "name": "ipython",
    "version": 3
   },
   "file_extension": ".py",
   "mimetype": "text/x-python",
   "name": "python",
   "nbconvert_exporter": "python",
   "pygments_lexer": "ipython3",
   "version": "3.6.3"
  }
 },
 "nbformat": 4,
 "nbformat_minor": 2
}
